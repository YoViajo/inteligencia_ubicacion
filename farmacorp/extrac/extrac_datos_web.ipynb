{
 "cells": [
  {
   "cell_type": "code",
   "execution_count": null,
   "metadata": {},
   "outputs": [],
   "source": [
    "import requests\n",
    "from bs4 import BeautifulSoup"
   ]
  },
  {
   "cell_type": "code",
   "execution_count": null,
   "metadata": {},
   "outputs": [],
   "source": [
    "# URL de la página a scrapear\n",
    "url = 'https://farmacorp.com/pages/sucursales'\n",
    "\n",
    "# Realizar la petición HTTP a la página\n",
    "response = requests.get(url)"
   ]
  },
  {
   "cell_type": "code",
   "execution_count": null,
   "metadata": {},
   "outputs": [],
   "source": [
    "# Comprobar que la petición fue exitosa\n",
    "if response.status_code == 200:\n",
    "    # Parsear el contenido HTML con BeautifulSoup\n",
    "    soup = BeautifulSoup(response.content, 'html.parser')\n",
    "\n",
    "    # Extraer los enlaces de las sucursales en Santa Cruz\n",
    "    sucursales = soup.select(\".store-name a\")  # Seleccionar los enlaces dentro de la clase .store-name\n",
    "\n",
    "    # Extraer los valores de los atributos href (los enlaces)\n",
    "    enlaces = [sucursal.get('href') for sucursal in sucursales]\n",
    "\n",
    "    # Imprimir los enlaces extraídos\n",
    "    for enlace in enlaces:\n",
    "        print(enlace)\n",
    "else:\n",
    "    print(f\"Error al acceder a la página: {response.status_code}\")"
   ]
  }
 ],
 "metadata": {
  "kernelspec": {
   "display_name": "WEB_SCRAPING",
   "language": "python",
   "name": "python3"
  },
  "language_info": {
   "name": "python",
   "version": "3.11.9"
  }
 },
 "nbformat": 4,
 "nbformat_minor": 2
}
